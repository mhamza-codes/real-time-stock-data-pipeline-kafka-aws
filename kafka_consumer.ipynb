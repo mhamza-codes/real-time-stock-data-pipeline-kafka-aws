{
 "cells": [
  {
   "cell_type": "code",
   "execution_count": 3,
   "id": "e4cfbb59",
   "metadata": {},
   "outputs": [],
   "source": [
    "import pandas as pd\n",
    "from kafka import KafkaConsumer, KafkaProducer\n",
    "from json import dumps, loads\n",
    "import json\n",
    "from time import sleep\n",
    "from s3fs import S3FileSystem"
   ]
  },
  {
   "cell_type": "code",
   "execution_count": null,
   "id": "984a31f8",
   "metadata": {},
   "outputs": [],
   "source": [
    "consumer = KafkaConsumer(\n",
    "    'demo_test',\n",
    "    bootstrap_servers=[':9092'], # add your IP here\n",
    "    value_deserializer=lambda x: loads(x.decode('utf-8'))\n",
    ")"
   ]
  },
  {
   "cell_type": "code",
   "execution_count": 5,
   "id": "5828c97a",
   "metadata": {},
   "outputs": [],
   "source": [
    "# for c in consumer:\n",
    "#     print(c.value)"
   ]
  },
  {
   "cell_type": "code",
   "execution_count": 6,
   "id": "fd528f35",
   "metadata": {},
   "outputs": [],
   "source": [
    "s3 = S3FileSystem()"
   ]
  },
  {
   "cell_type": "code",
   "execution_count": null,
   "id": "b2d41d18",
   "metadata": {},
   "outputs": [],
   "source": [
    "for count, message in enumerate(consumer):\n",
    "    with s3.open(\"s3://kafka-server-stock-market/stock_market_{}.json\".format(count), 'w') as file:\n",
    "        json.dump(message.value, file)"
   ]
  },
  {
   "cell_type": "code",
   "execution_count": null,
   "id": "2d6addb4",
   "metadata": {},
   "outputs": [],
   "source": []
  }
 ],
 "metadata": {
  "kernelspec": {
   "display_name": "kafka_env",
   "language": "python",
   "name": "python3"
  },
  "language_info": {
   "codemirror_mode": {
    "name": "ipython",
    "version": 3
   },
   "file_extension": ".py",
   "mimetype": "text/x-python",
   "name": "python",
   "nbconvert_exporter": "python",
   "pygments_lexer": "ipython3",
   "version": "3.13.5"
  }
 },
 "nbformat": 4,
 "nbformat_minor": 5
}
